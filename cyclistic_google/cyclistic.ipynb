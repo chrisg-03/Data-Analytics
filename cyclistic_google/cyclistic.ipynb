{
 "cells": [
  {
   "cell_type": "code",
   "execution_count": null,
   "metadata": {},
   "outputs": [],
   "source": [
    "'''\n",
    "Google Data Analytics Case Study\n",
    "\n",
    "Cyclistic, a bike-share company in Chicago, is operating a bike sharing program that features more than 5,800 bicycles and 600 docking stations. \n",
    "The bikes can be unlocked from one station and returned to any other station in the system anytime.\n",
    "\n",
    "Cyclistic's marketing strategy relied on building general awareness and appealing to broad consumer segments. \n",
    "One approach that helped make these things possible was the flexibility of its pricing plans: single-ride passes, full-day passes, and annual memberships. \n",
    "Customers who purchase single-ride or full-day passes are referred to as casual riders. \n",
    "Cyclistic users are more likely to ride for leisure, but about 30% use them to commute to work each day. \n",
    "Customers who purchase annual memberships are Cyclistic members. \n",
    "The director of marketing in Cyclistic believes the company's future success depends on maximizing the number of annual memberships. \n",
    "\n",
    "Three questions will guide the future marketing program:\n",
    "1. How do annual members and casual riders use Cyclistic bikes differently?\n",
    "2. Why would casual riders buy Cyclistic annual memberships?\n",
    "3. How can Cyclistic use digital media to influence casual riders to become members?\n",
    "\n",
    "'''"
   ]
  },
  {
   "cell_type": "code",
   "execution_count": null,
   "metadata": {},
   "outputs": [],
   "source": [
    "'''\n",
    "Data Cleaning\n",
    "\n",
    "Steps\n",
    "1. Import and combine 12 files for each month representing cyclistic bike rentals in 2022\n",
    "2. Remove missing data\n",
    "3. Fix data types for analysis\n",
    "4. Remove duplicates of primary key 'ride_id'\n",
    "5. Filter data for 'ride_length' outliers to improve mean and skewness of data\n",
    "6. Export to csv to create dashboard on tableau\n",
    "'''"
   ]
  },
  {
   "cell_type": "code",
   "execution_count": 1,
   "metadata": {},
   "outputs": [],
   "source": [
    "import pandas as pd\n",
    "import numpy as np\n",
    "import seaborn as sns\n",
    "import matplotlib.pyplot as plt\n",
    "from scipy.stats import skew"
   ]
  },
  {
   "cell_type": "code",
   "execution_count": 2,
   "metadata": {},
   "outputs": [
    {
     "name": "stdout",
     "output_type": "stream",
     "text": [
      "                  ride_id  rideable_type           started_at  \\\n",
      "0        C2F7DD78E82EC875  electric_bike  2022-01-13 11:59:47   \n",
      "1        A6CF8980A652D272  electric_bike  2022-01-10 08:41:56   \n",
      "2        BD0F91DFF741C66D   classic_bike  2022-01-25 04:53:40   \n",
      "3        CBB80ED419105406   classic_bike  2022-01-04 00:18:04   \n",
      "4        DDC963BFDDA51EEA   classic_bike  2022-01-20 01:31:10   \n",
      "...                   ...            ...                  ...   \n",
      "5667712  43ABEE85B6E15DCA   classic_bike  2022-12-05 06:51:04   \n",
      "5667713  F041C89A3D1F0270  electric_bike  2022-12-14 17:06:28   \n",
      "5667714  A2BECB88430BE156   classic_bike  2022-12-08 16:27:47   \n",
      "5667715  37B392960E566F58   classic_bike  2022-12-28 09:37:38   \n",
      "5667716  2DD1587210BA45AE   classic_bike  2022-12-09 00:27:25   \n",
      "\n",
      "                    ended_at             start_station_name start_station_id  \\\n",
      "0        2022-01-13 12:02:44       Glenwood Ave & Touhy Ave              525   \n",
      "1        2022-01-10 08:46:17       Glenwood Ave & Touhy Ave              525   \n",
      "2        2022-01-25 04:58:01  Sheffield Ave & Fullerton Ave     TA1306000016   \n",
      "3        2022-01-04 00:33:00       Clark St & Bryn Mawr Ave     KA1504000151   \n",
      "4        2022-01-20 01:37:12    Michigan Ave & Jackson Blvd     TA1309000002   \n",
      "...                      ...                            ...              ...   \n",
      "5667712  2022-12-05 06:54:48  Sangamon St & Washington Blvd            13409   \n",
      "5667713  2022-12-14 17:19:27        Bernard St & Elston Ave            18016   \n",
      "5667714  2022-12-08 16:32:20      Wacker Dr & Washington St     KA1503000072   \n",
      "5667715  2022-12-28 09:41:34  Sangamon St & Washington Blvd            13409   \n",
      "5667716  2022-12-09 00:35:28   Southport Ave & Waveland Ave            13235   \n",
      "\n",
      "                      end_station_name end_station_id  start_lat  start_lng  \\\n",
      "0                 Clark St & Touhy Ave         RP-007  42.012800 -87.665906   \n",
      "1                 Clark St & Touhy Ave         RP-007  42.012763 -87.665967   \n",
      "2        Greenview Ave & Fullerton Ave   TA1307000001  41.925602 -87.653708   \n",
      "3            Paulina St & Montrose Ave   TA1309000021  41.983593 -87.669154   \n",
      "4               State St & Randolph St   TA1305000029  41.877850 -87.624080   \n",
      "...                                ...            ...        ...        ...   \n",
      "5667712       Peoria St & Jackson Blvd          13158  41.883165 -87.651100   \n",
      "5667713         Seeley Ave & Roscoe St          13144  41.949980 -87.714019   \n",
      "5667714          Green St & Madison St   TA1307000120  41.883143 -87.637242   \n",
      "5667715       Peoria St & Jackson Blvd          13158  41.883165 -87.651100   \n",
      "5667716         Seeley Ave & Roscoe St          13144  41.948150 -87.663940   \n",
      "\n",
      "           end_lat    end_lng member_casual  \n",
      "0        42.012560 -87.674367        casual  \n",
      "1        42.012560 -87.674367        casual  \n",
      "2        41.925330 -87.665800        member  \n",
      "3        41.961507 -87.671387        casual  \n",
      "4        41.884621 -87.627834        member  \n",
      "...            ...        ...           ...  \n",
      "5667712  41.877642 -87.649618        member  \n",
      "5667713  41.943403 -87.679618        member  \n",
      "5667714  41.881859 -87.649264        member  \n",
      "5667715  41.877642 -87.649618        member  \n",
      "5667716  41.943403 -87.679618        casual  \n",
      "\n",
      "[5667717 rows x 13 columns]\n"
     ]
    }
   ],
   "source": [
    "# Merge data using concat because columns position across excel files are the same\n",
    "path = r'C:/Users/Chris/OneDrive/Desktop/Python Projects/cyclistic data'\n",
    "\n",
    "dataframes = []\n",
    "for i in range(12):\n",
    "    file_path = path + f'/{i+1}.csv'\n",
    "    df = pd.read_csv(file_path)\n",
    "    dataframes.append(df)\n",
    "\n",
    "cyclistic = pd.concat(dataframes, ignore_index = True)\n",
    "print(cyclistic)"
   ]
  },
  {
   "cell_type": "code",
   "execution_count": 3,
   "metadata": {},
   "outputs": [
    {
     "name": "stdout",
     "output_type": "stream",
     "text": [
      "Starting date: 2022-01-01 00:00:05\n",
      "Ending date: 2022-12-31 23:59:26\n"
     ]
    }
   ],
   "source": [
    "# Check if merge was successful\n",
    "print('Starting date:', cyclistic['started_at'].min())\n",
    "print('Ending date:', cyclistic['started_at'].max()) # Merge was successful. Do note we will consider 2022 data based on point of sale/last datetime of 'started_at'"
   ]
  },
  {
   "cell_type": "code",
   "execution_count": 4,
   "metadata": {},
   "outputs": [
    {
     "name": "stdout",
     "output_type": "stream",
     "text": [
      "ride_id               5667717\n",
      "rideable_type         5667717\n",
      "started_at            5667717\n",
      "ended_at              5667717\n",
      "start_station_name    4834653\n",
      "start_station_id      4834653\n",
      "end_station_name      4774975\n",
      "end_station_id        4774975\n",
      "start_lat             5667717\n",
      "start_lng             5667717\n",
      "end_lat               5661859\n",
      "end_lng               5661859\n",
      "member_casual         5667717\n",
      "dtype: int64\n"
     ]
    }
   ],
   "source": [
    "# Remove duplicated primary key 'ride_id'\n",
    "cyclistic = cyclistic.drop_duplicates(subset = ['ride_id'])\n",
    "print(cyclistic.count())"
   ]
  },
  {
   "cell_type": "code",
   "execution_count": 5,
   "metadata": {},
   "outputs": [
    {
     "name": "stdout",
     "output_type": "stream",
     "text": [
      "Total count \n",
      " ride_id               5667717\n",
      "rideable_type         5667717\n",
      "started_at            5667717\n",
      "ended_at              5667717\n",
      "start_station_name    4834653\n",
      "start_station_id      4834653\n",
      "end_station_name      4774975\n",
      "end_station_id        4774975\n",
      "start_lat             5667717\n",
      "start_lng             5667717\n",
      "end_lat               5661859\n",
      "end_lng               5661859\n",
      "member_casual         5667717\n",
      "dtype: int64 \n",
      "\n",
      "Count missing data \n",
      " ride_id                    0\n",
      "rideable_type              0\n",
      "started_at                 0\n",
      "ended_at                   0\n",
      "start_station_name    833064\n",
      "start_station_id      833064\n",
      "end_station_name      892742\n",
      "end_station_id        892742\n",
      "start_lat                  0\n",
      "start_lng                  0\n",
      "end_lat                 5858\n",
      "end_lng                 5858\n",
      "member_casual              0\n",
      "dtype: int64 \n",
      "\n"
     ]
    }
   ],
   "source": [
    "# Analysing if missing data present\n",
    "print('Total count', '\\n', cyclistic.count(), '\\n')\n",
    "print('Count missing data', '\\n', cyclistic.isna().sum(), '\\n')"
   ]
  },
  {
   "cell_type": "code",
   "execution_count": 6,
   "metadata": {},
   "outputs": [
    {
     "data": {
      "text/html": [
       "<div>\n",
       "<style scoped>\n",
       "    .dataframe tbody tr th:only-of-type {\n",
       "        vertical-align: middle;\n",
       "    }\n",
       "\n",
       "    .dataframe tbody tr th {\n",
       "        vertical-align: top;\n",
       "    }\n",
       "\n",
       "    .dataframe thead th {\n",
       "        text-align: right;\n",
       "    }\n",
       "</style>\n",
       "<table border=\"1\" class=\"dataframe\">\n",
       "  <thead>\n",
       "    <tr style=\"text-align: right;\">\n",
       "      <th></th>\n",
       "      <th>ride_id</th>\n",
       "      <th>rideable_type</th>\n",
       "      <th>started_at</th>\n",
       "      <th>ended_at</th>\n",
       "      <th>start_station_name</th>\n",
       "      <th>start_station_id</th>\n",
       "      <th>end_station_name</th>\n",
       "      <th>end_station_id</th>\n",
       "      <th>start_lat</th>\n",
       "      <th>start_lng</th>\n",
       "      <th>end_lat</th>\n",
       "      <th>end_lng</th>\n",
       "      <th>member_casual</th>\n",
       "    </tr>\n",
       "  </thead>\n",
       "  <tbody>\n",
       "    <tr>\n",
       "      <th>256</th>\n",
       "      <td>857B71104B437577</td>\n",
       "      <td>electric_bike</td>\n",
       "      <td>2022-01-04 17:08:16</td>\n",
       "      <td>2022-01-04 17:12:15</td>\n",
       "      <td>NaN</td>\n",
       "      <td>NaN</td>\n",
       "      <td>Lockwood Ave &amp; Wrightwood Ave</td>\n",
       "      <td>312</td>\n",
       "      <td>41.93</td>\n",
       "      <td>-87.76</td>\n",
       "      <td>41.930000</td>\n",
       "      <td>-87.760000</td>\n",
       "      <td>casual</td>\n",
       "    </tr>\n",
       "    <tr>\n",
       "      <th>979</th>\n",
       "      <td>565EEF32A9B65000</td>\n",
       "      <td>electric_bike</td>\n",
       "      <td>2022-01-11 21:51:25</td>\n",
       "      <td>2022-01-11 21:55:27</td>\n",
       "      <td>NaN</td>\n",
       "      <td>NaN</td>\n",
       "      <td>Ashland Ave &amp; Grace St</td>\n",
       "      <td>13319</td>\n",
       "      <td>41.95</td>\n",
       "      <td>-87.65</td>\n",
       "      <td>41.950687</td>\n",
       "      <td>-87.668700</td>\n",
       "      <td>member</td>\n",
       "    </tr>\n",
       "    <tr>\n",
       "      <th>980</th>\n",
       "      <td>C1C1910260144C76</td>\n",
       "      <td>electric_bike</td>\n",
       "      <td>2022-01-05 03:25:22</td>\n",
       "      <td>2022-01-05 03:43:32</td>\n",
       "      <td>NaN</td>\n",
       "      <td>NaN</td>\n",
       "      <td>Ashland Ave &amp; Grace St</td>\n",
       "      <td>13319</td>\n",
       "      <td>41.92</td>\n",
       "      <td>-87.69</td>\n",
       "      <td>41.950687</td>\n",
       "      <td>-87.668700</td>\n",
       "      <td>member</td>\n",
       "    </tr>\n",
       "    <tr>\n",
       "      <th>1079</th>\n",
       "      <td>A3CE921272003727</td>\n",
       "      <td>electric_bike</td>\n",
       "      <td>2022-01-18 07:01:29</td>\n",
       "      <td>2022-01-18 07:14:08</td>\n",
       "      <td>NaN</td>\n",
       "      <td>NaN</td>\n",
       "      <td>Southport Ave &amp; Clybourn Ave</td>\n",
       "      <td>TA1309000030</td>\n",
       "      <td>41.91</td>\n",
       "      <td>-87.69</td>\n",
       "      <td>41.920771</td>\n",
       "      <td>-87.663712</td>\n",
       "      <td>member</td>\n",
       "    </tr>\n",
       "    <tr>\n",
       "      <th>1080</th>\n",
       "      <td>A285AF99096A99AD</td>\n",
       "      <td>electric_bike</td>\n",
       "      <td>2022-01-14 11:10:28</td>\n",
       "      <td>2022-01-14 11:20:07</td>\n",
       "      <td>NaN</td>\n",
       "      <td>NaN</td>\n",
       "      <td>Southport Ave &amp; Clybourn Ave</td>\n",
       "      <td>TA1309000030</td>\n",
       "      <td>41.91</td>\n",
       "      <td>-87.69</td>\n",
       "      <td>41.920771</td>\n",
       "      <td>-87.663712</td>\n",
       "      <td>member</td>\n",
       "    </tr>\n",
       "  </tbody>\n",
       "</table>\n",
       "</div>"
      ],
      "text/plain": [
       "               ride_id  rideable_type           started_at  \\\n",
       "256   857B71104B437577  electric_bike  2022-01-04 17:08:16   \n",
       "979   565EEF32A9B65000  electric_bike  2022-01-11 21:51:25   \n",
       "980   C1C1910260144C76  electric_bike  2022-01-05 03:25:22   \n",
       "1079  A3CE921272003727  electric_bike  2022-01-18 07:01:29   \n",
       "1080  A285AF99096A99AD  electric_bike  2022-01-14 11:10:28   \n",
       "\n",
       "                 ended_at start_station_name start_station_id  \\\n",
       "256   2022-01-04 17:12:15                NaN              NaN   \n",
       "979   2022-01-11 21:55:27                NaN              NaN   \n",
       "980   2022-01-05 03:43:32                NaN              NaN   \n",
       "1079  2022-01-18 07:14:08                NaN              NaN   \n",
       "1080  2022-01-14 11:20:07                NaN              NaN   \n",
       "\n",
       "                   end_station_name end_station_id  start_lat  start_lng  \\\n",
       "256   Lockwood Ave & Wrightwood Ave            312      41.93     -87.76   \n",
       "979          Ashland Ave & Grace St          13319      41.95     -87.65   \n",
       "980          Ashland Ave & Grace St          13319      41.92     -87.69   \n",
       "1079   Southport Ave & Clybourn Ave   TA1309000030      41.91     -87.69   \n",
       "1080   Southport Ave & Clybourn Ave   TA1309000030      41.91     -87.69   \n",
       "\n",
       "        end_lat    end_lng member_casual  \n",
       "256   41.930000 -87.760000        casual  \n",
       "979   41.950687 -87.668700        member  \n",
       "980   41.950687 -87.668700        member  \n",
       "1079  41.920771 -87.663712        member  \n",
       "1080  41.920771 -87.663712        member  "
      ]
     },
     "execution_count": 6,
     "metadata": {},
     "output_type": "execute_result"
    }
   ],
   "source": [
    "# Case example where start station is Nan\n",
    "cyclistic[cyclistic['start_station_name'].isna()].head(5) # May run into issues i.e. trends in station location or popular sites because they are unrecorded\n",
    "\n",
    "# As we are finding trends in relational database to engage marketing strategies, clean data will be important to achieve a confident analysis. \n",
    "# Thus the decision to drop Nan values in the database"
   ]
  },
  {
   "cell_type": "code",
   "execution_count": 7,
   "metadata": {},
   "outputs": [
    {
     "name": "stdout",
     "output_type": "stream",
     "text": [
      "ride_id               4369360\n",
      "rideable_type         4369360\n",
      "started_at            4369360\n",
      "ended_at              4369360\n",
      "start_station_name    4369360\n",
      "start_station_id      4369360\n",
      "end_station_name      4369360\n",
      "end_station_id        4369360\n",
      "start_lat             4369360\n",
      "start_lng             4369360\n",
      "end_lat               4369360\n",
      "end_lng               4369360\n",
      "member_casual         4369360\n",
      "dtype: int64\n"
     ]
    }
   ],
   "source": [
    "cyclistic.dropna(inplace = True)\n",
    "print(cyclistic.count())"
   ]
  },
  {
   "cell_type": "code",
   "execution_count": 8,
   "metadata": {},
   "outputs": [
    {
     "name": "stdout",
     "output_type": "stream",
     "text": [
      "Before \n",
      " ride_id                object\n",
      "rideable_type          object\n",
      "started_at             object\n",
      "ended_at               object\n",
      "start_station_name     object\n",
      "start_station_id       object\n",
      "end_station_name       object\n",
      "end_station_id         object\n",
      "start_lat             float64\n",
      "start_lng             float64\n",
      "end_lat               float64\n",
      "end_lng               float64\n",
      "member_casual          object\n",
      "dtype: object \n",
      "\n",
      "After \n",
      " ride_id                       object\n",
      "rideable_type                 object\n",
      "started_at            datetime64[ns]\n",
      "ended_at              datetime64[ns]\n",
      "start_station_name            object\n",
      "start_station_id              object\n",
      "end_station_name              object\n",
      "end_station_id                object\n",
      "start_lat                    float64\n",
      "start_lng                    float64\n",
      "end_lat                      float64\n",
      "end_lng                      float64\n",
      "member_casual               category\n",
      "dtype: object\n"
     ]
    }
   ],
   "source": [
    "# Fixing data types \n",
    "print('Before', '\\n', cyclistic.dtypes, '\\n')\n",
    "cyclistic['started_at'] = cyclistic['started_at'].astype('datetime64[ns]')\n",
    "cyclistic['ended_at'] = cyclistic['ended_at'].astype('datetime64[ns]')\n",
    "cyclistic['member_casual'] = pd.Categorical(cyclistic['member_casual'], categories = ['member', 'casual'])\n",
    "print('After', '\\n', cyclistic.dtypes)"
   ]
  },
  {
   "cell_type": "code",
   "execution_count": 9,
   "metadata": {},
   "outputs": [
    {
     "name": "stdout",
     "output_type": "stream",
     "text": [
      "min ride length: -1 days +21:11:18\n",
      "max ride length: 23 days 20:34:04\n"
     ]
    }
   ],
   "source": [
    "# Add new column ride_length to find trends in our data\n",
    "cyclistic['ride_length'] = cyclistic['ended_at'] - cyclistic['started_at']\n",
    "print('min ride length:', cyclistic['ride_length'].min())\n",
    "print('max ride length:', cyclistic['ride_length'].max())"
   ]
  },
  {
   "cell_type": "code",
   "execution_count": 10,
   "metadata": {},
   "outputs": [
    {
     "name": "stdout",
     "output_type": "stream",
     "text": [
      "min ride length: 0 days 00:00:00\n",
      "max ride length: 23 days 20:34:04\n"
     ]
    }
   ],
   "source": [
    "# Remove negative ride length\n",
    "cyclistic = cyclistic[~(cyclistic['ride_length'] < pd.Timedelta('0 days 00:00:00'))]\n",
    "print('min ride length:', cyclistic['ride_length'].min())\n",
    "print('max ride length:', cyclistic['ride_length'].max())"
   ]
  },
  {
   "cell_type": "code",
   "execution_count": 11,
   "metadata": {},
   "outputs": [
    {
     "data": {
      "text/plain": [
       "count                      4369291\n",
       "mean     0 days 00:17:05.750345765\n",
       "std      0 days 00:47:52.035890902\n",
       "min                0 days 00:00:00\n",
       "25%                0 days 00:06:03\n",
       "50%                0 days 00:10:36\n",
       "75%                0 days 00:19:01\n",
       "max               23 days 20:34:04\n",
       "Name: ride_length, dtype: object"
      ]
     },
     "execution_count": 11,
     "metadata": {},
     "output_type": "execute_result"
    }
   ],
   "source": [
    "cyclistic['ride_length'].describe()\n",
    "# From this data insight we can see that although ride length has an average of 17:05 minutes, our max time is 23 days 20:34:04 indicating that our data is right skewed"
   ]
  },
  {
   "cell_type": "code",
   "execution_count": 12,
   "metadata": {},
   "outputs": [
    {
     "name": "stdout",
     "output_type": "stream",
     "text": [
      "            ride_id  rideable_type          started_at            ended_at  \\\n",
      "0  C2F7DD78E82EC875  electric_bike 2022-01-13 11:59:47 2022-01-13 12:02:44   \n",
      "1  A6CF8980A652D272  electric_bike 2022-01-10 08:41:56 2022-01-10 08:46:17   \n",
      "2  BD0F91DFF741C66D   classic_bike 2022-01-25 04:53:40 2022-01-25 04:58:01   \n",
      "3  CBB80ED419105406   classic_bike 2022-01-04 00:18:04 2022-01-04 00:33:00   \n",
      "4  DDC963BFDDA51EEA   classic_bike 2022-01-20 01:31:10 2022-01-20 01:37:12   \n",
      "\n",
      "              start_station_name start_station_id  \\\n",
      "0       Glenwood Ave & Touhy Ave              525   \n",
      "1       Glenwood Ave & Touhy Ave              525   \n",
      "2  Sheffield Ave & Fullerton Ave     TA1306000016   \n",
      "3       Clark St & Bryn Mawr Ave     KA1504000151   \n",
      "4    Michigan Ave & Jackson Blvd     TA1309000002   \n",
      "\n",
      "                end_station_name end_station_id  start_lat  start_lng  \\\n",
      "0           Clark St & Touhy Ave         RP-007  42.012800 -87.665906   \n",
      "1           Clark St & Touhy Ave         RP-007  42.012763 -87.665967   \n",
      "2  Greenview Ave & Fullerton Ave   TA1307000001  41.925602 -87.653708   \n",
      "3      Paulina St & Montrose Ave   TA1309000021  41.983593 -87.669154   \n",
      "4         State St & Randolph St   TA1305000029  41.877850 -87.624080   \n",
      "\n",
      "     end_lat    end_lng member_casual     ride_length  total_seconds  \n",
      "0  42.012560 -87.674367        casual 0 days 00:02:57            177  \n",
      "1  42.012560 -87.674367        casual 0 days 00:04:21            261  \n",
      "2  41.925330 -87.665800        member 0 days 00:04:21            261  \n",
      "3  41.961507 -87.671387        casual 0 days 00:14:56            896  \n",
      "4  41.884621 -87.627834        member 0 days 00:06:02            362  \n"
     ]
    }
   ],
   "source": [
    "# Add new total seconds to remove outliers; standardise data to integer value\n",
    "cyclistic['total_seconds'] = cyclistic['ride_length'].dt.total_seconds()\n",
    "cyclistic['total_seconds'] = cyclistic['total_seconds'].astype('int64')\n",
    "print(cyclistic.head(5))"
   ]
  },
  {
   "cell_type": "code",
   "execution_count": 13,
   "metadata": {},
   "outputs": [
    {
     "name": "stdout",
     "output_type": "stream",
     "text": [
      "            ride_id  rideable_type          started_at            ended_at  \\\n",
      "0  C2F7DD78E82EC875  electric_bike 2022-01-13 11:59:47 2022-01-13 12:02:44   \n",
      "1  A6CF8980A652D272  electric_bike 2022-01-10 08:41:56 2022-01-10 08:46:17   \n",
      "2  BD0F91DFF741C66D   classic_bike 2022-01-25 04:53:40 2022-01-25 04:58:01   \n",
      "3  CBB80ED419105406   classic_bike 2022-01-04 00:18:04 2022-01-04 00:33:00   \n",
      "4  DDC963BFDDA51EEA   classic_bike 2022-01-20 01:31:10 2022-01-20 01:37:12   \n",
      "\n",
      "              start_station_name start_station_id  \\\n",
      "0       Glenwood Ave & Touhy Ave              525   \n",
      "1       Glenwood Ave & Touhy Ave              525   \n",
      "2  Sheffield Ave & Fullerton Ave     TA1306000016   \n",
      "3       Clark St & Bryn Mawr Ave     KA1504000151   \n",
      "4    Michigan Ave & Jackson Blvd     TA1309000002   \n",
      "\n",
      "                end_station_name end_station_id  start_lat  start_lng  \\\n",
      "0           Clark St & Touhy Ave         RP-007  42.012800 -87.665906   \n",
      "1           Clark St & Touhy Ave         RP-007  42.012763 -87.665967   \n",
      "2  Greenview Ave & Fullerton Ave   TA1307000001  41.925602 -87.653708   \n",
      "3      Paulina St & Montrose Ave   TA1309000021  41.983593 -87.669154   \n",
      "4         State St & Randolph St   TA1305000029  41.877850 -87.624080   \n",
      "\n",
      "     end_lat    end_lng member_casual     ride_length  total_seconds       day  \n",
      "0  42.012560 -87.674367        casual 0 days 00:02:57            177  Thursday  \n",
      "1  42.012560 -87.674367        casual 0 days 00:04:21            261    Monday  \n",
      "2  41.925330 -87.665800        member 0 days 00:04:21            261   Tuesday  \n",
      "3  41.961507 -87.671387        casual 0 days 00:14:56            896   Tuesday  \n",
      "4  41.884621 -87.627834        member 0 days 00:06:02            362  Thursday  \n"
     ]
    }
   ],
   "source": [
    "cyclistic['day'] = cyclistic['started_at'].dt.day_name()\n",
    "print(cyclistic.head())"
   ]
  },
  {
   "cell_type": "code",
   "execution_count": 14,
   "metadata": {},
   "outputs": [
    {
     "name": "stdout",
     "output_type": "stream",
     "text": [
      "upper limit: 4172.0\n",
      "lower limit: 96.0\n"
     ]
    }
   ],
   "source": [
    "# Because the mean is smaller relative to the inter quantile range (IQR method), we use a percentile method to remove outliers in the data\n",
    "upper_limit = cyclistic['total_seconds'].quantile(0.975)\n",
    "lower_limit = cyclistic['total_seconds'].quantile(0.025)\n",
    "print('upper limit:', upper_limit)\n",
    "print('lower limit:', lower_limit)"
   ]
  },
  {
   "cell_type": "code",
   "execution_count": 15,
   "metadata": {},
   "outputs": [
    {
     "name": "stdout",
     "output_type": "stream",
     "text": [
      "                  ride_id  rideable_type          started_at  \\\n",
      "0        C2F7DD78E82EC875  electric_bike 2022-01-13 11:59:47   \n",
      "1        A6CF8980A652D272  electric_bike 2022-01-10 08:41:56   \n",
      "2        BD0F91DFF741C66D   classic_bike 2022-01-25 04:53:40   \n",
      "3        CBB80ED419105406   classic_bike 2022-01-04 00:18:04   \n",
      "4        DDC963BFDDA51EEA   classic_bike 2022-01-20 01:31:10   \n",
      "...                   ...            ...                 ...   \n",
      "5667712  43ABEE85B6E15DCA   classic_bike 2022-12-05 06:51:04   \n",
      "5667713  F041C89A3D1F0270  electric_bike 2022-12-14 17:06:28   \n",
      "5667714  A2BECB88430BE156   classic_bike 2022-12-08 16:27:47   \n",
      "5667715  37B392960E566F58   classic_bike 2022-12-28 09:37:38   \n",
      "5667716  2DD1587210BA45AE   classic_bike 2022-12-09 00:27:25   \n",
      "\n",
      "                   ended_at             start_station_name start_station_id  \\\n",
      "0       2022-01-13 12:02:44       Glenwood Ave & Touhy Ave              525   \n",
      "1       2022-01-10 08:46:17       Glenwood Ave & Touhy Ave              525   \n",
      "2       2022-01-25 04:58:01  Sheffield Ave & Fullerton Ave     TA1306000016   \n",
      "3       2022-01-04 00:33:00       Clark St & Bryn Mawr Ave     KA1504000151   \n",
      "4       2022-01-20 01:37:12    Michigan Ave & Jackson Blvd     TA1309000002   \n",
      "...                     ...                            ...              ...   \n",
      "5667712 2022-12-05 06:54:48  Sangamon St & Washington Blvd            13409   \n",
      "5667713 2022-12-14 17:19:27        Bernard St & Elston Ave            18016   \n",
      "5667714 2022-12-08 16:32:20      Wacker Dr & Washington St     KA1503000072   \n",
      "5667715 2022-12-28 09:41:34  Sangamon St & Washington Blvd            13409   \n",
      "5667716 2022-12-09 00:35:28   Southport Ave & Waveland Ave            13235   \n",
      "\n",
      "                      end_station_name end_station_id  start_lat  start_lng  \\\n",
      "0                 Clark St & Touhy Ave         RP-007  42.012800 -87.665906   \n",
      "1                 Clark St & Touhy Ave         RP-007  42.012763 -87.665967   \n",
      "2        Greenview Ave & Fullerton Ave   TA1307000001  41.925602 -87.653708   \n",
      "3            Paulina St & Montrose Ave   TA1309000021  41.983593 -87.669154   \n",
      "4               State St & Randolph St   TA1305000029  41.877850 -87.624080   \n",
      "...                                ...            ...        ...        ...   \n",
      "5667712       Peoria St & Jackson Blvd          13158  41.883165 -87.651100   \n",
      "5667713         Seeley Ave & Roscoe St          13144  41.949980 -87.714019   \n",
      "5667714          Green St & Madison St   TA1307000120  41.883143 -87.637242   \n",
      "5667715       Peoria St & Jackson Blvd          13158  41.883165 -87.651100   \n",
      "5667716         Seeley Ave & Roscoe St          13144  41.948150 -87.663940   \n",
      "\n",
      "           end_lat    end_lng member_casual     ride_length  total_seconds  \\\n",
      "0        42.012560 -87.674367        casual 0 days 00:02:57            177   \n",
      "1        42.012560 -87.674367        casual 0 days 00:04:21            261   \n",
      "2        41.925330 -87.665800        member 0 days 00:04:21            261   \n",
      "3        41.961507 -87.671387        casual 0 days 00:14:56            896   \n",
      "4        41.884621 -87.627834        member 0 days 00:06:02            362   \n",
      "...            ...        ...           ...             ...            ...   \n",
      "5667712  41.877642 -87.649618        member 0 days 00:03:44            224   \n",
      "5667713  41.943403 -87.679618        member 0 days 00:12:59            779   \n",
      "5667714  41.881859 -87.649264        member 0 days 00:04:33            273   \n",
      "5667715  41.877642 -87.649618        member 0 days 00:03:56            236   \n",
      "5667716  41.943403 -87.679618        casual 0 days 00:08:03            483   \n",
      "\n",
      "               day  \n",
      "0         Thursday  \n",
      "1           Monday  \n",
      "2          Tuesday  \n",
      "3          Tuesday  \n",
      "4         Thursday  \n",
      "...            ...  \n",
      "5667712     Monday  \n",
      "5667713  Wednesday  \n",
      "5667714   Thursday  \n",
      "5667715  Wednesday  \n",
      "5667716     Friday  \n",
      "\n",
      "[4151230 rows x 16 columns]\n"
     ]
    }
   ],
   "source": [
    "df = cyclistic[(cyclistic['total_seconds'] <= upper_limit) & (cyclistic['total_seconds'] >= lower_limit)]\n",
    "print(df) # from 4,369,360 to 4,151,230 captures 95% of our data"
   ]
  },
  {
   "cell_type": "code",
   "execution_count": 16,
   "metadata": {},
   "outputs": [
    {
     "name": "stdout",
     "output_type": "stream",
     "text": [
      "skewness of filtered data: 1.8128305049569435\n"
     ]
    },
    {
     "data": {
      "image/png": "[encoded data removed]",
      "text/plain": [
       "<Figure size 1200x600 with 1 Axes>"
      ]
     },
     "metadata": {},
     "output_type": "display_data"
    }
   ],
   "source": [
    "print('skewness of filtered data:', skew(df['total_seconds']))\n",
    "plt.figure(figsize = (12, 6))\n",
    "sns.histplot(df['total_seconds'], stat = 'percent')\n",
    "plt.xlabel('Time (s)')\n",
    "plt.ylabel('Percentage of total')\n",
    "plt.title('Distribution of ride lengths in seconds')\n",
    "plt.show() # Although there is a slight right skew in our data it has improved drastically after removing outliers "
   ]
  },
  {
   "cell_type": "code",
   "execution_count": 17,
   "metadata": {},
   "outputs": [
    {
     "name": "stdout",
     "output_type": "stream",
     "text": [
      "                  ride_id  rideable_type          started_at  \\\n",
      "0        C2F7DD78E82EC875  electric_bike 2022-01-13 11:59:47   \n",
      "1        A6CF8980A652D272  electric_bike 2022-01-10 08:41:56   \n",
      "2        BD0F91DFF741C66D   classic_bike 2022-01-25 04:53:40   \n",
      "3        CBB80ED419105406   classic_bike 2022-01-04 00:18:04   \n",
      "4        DDC963BFDDA51EEA   classic_bike 2022-01-20 01:31:10   \n",
      "...                   ...            ...                 ...   \n",
      "4151225  43ABEE85B6E15DCA   classic_bike 2022-12-05 06:51:04   \n",
      "4151226  F041C89A3D1F0270  electric_bike 2022-12-14 17:06:28   \n",
      "4151227  A2BECB88430BE156   classic_bike 2022-12-08 16:27:47   \n",
      "4151228  37B392960E566F58   classic_bike 2022-12-28 09:37:38   \n",
      "4151229  2DD1587210BA45AE   classic_bike 2022-12-09 00:27:25   \n",
      "\n",
      "                   ended_at             start_station_name start_station_id  \\\n",
      "0       2022-01-13 12:02:44       Glenwood Ave & Touhy Ave              525   \n",
      "1       2022-01-10 08:46:17       Glenwood Ave & Touhy Ave              525   \n",
      "2       2022-01-25 04:58:01  Sheffield Ave & Fullerton Ave     TA1306000016   \n",
      "3       2022-01-04 00:33:00       Clark St & Bryn Mawr Ave     KA1504000151   \n",
      "4       2022-01-20 01:37:12    Michigan Ave & Jackson Blvd     TA1309000002   \n",
      "...                     ...                            ...              ...   \n",
      "4151225 2022-12-05 06:54:48  Sangamon St & Washington Blvd            13409   \n",
      "4151226 2022-12-14 17:19:27        Bernard St & Elston Ave            18016   \n",
      "4151227 2022-12-08 16:32:20      Wacker Dr & Washington St     KA1503000072   \n",
      "4151228 2022-12-28 09:41:34  Sangamon St & Washington Blvd            13409   \n",
      "4151229 2022-12-09 00:35:28   Southport Ave & Waveland Ave            13235   \n",
      "\n",
      "                      end_station_name end_station_id  start_lat  start_lng  \\\n",
      "0                 Clark St & Touhy Ave         RP-007  42.012800 -87.665906   \n",
      "1                 Clark St & Touhy Ave         RP-007  42.012763 -87.665967   \n",
      "2        Greenview Ave & Fullerton Ave   TA1307000001  41.925602 -87.653708   \n",
      "3            Paulina St & Montrose Ave   TA1309000021  41.983593 -87.669154   \n",
      "4               State St & Randolph St   TA1305000029  41.877850 -87.624080   \n",
      "...                                ...            ...        ...        ...   \n",
      "4151225       Peoria St & Jackson Blvd          13158  41.883165 -87.651100   \n",
      "4151226         Seeley Ave & Roscoe St          13144  41.949980 -87.714019   \n",
      "4151227          Green St & Madison St   TA1307000120  41.883143 -87.637242   \n",
      "4151228       Peoria St & Jackson Blvd          13158  41.883165 -87.651100   \n",
      "4151229         Seeley Ave & Roscoe St          13144  41.948150 -87.663940   \n",
      "\n",
      "           end_lat    end_lng member_casual     ride_length  total_seconds  \\\n",
      "0        42.012560 -87.674367        casual 0 days 00:02:57            177   \n",
      "1        42.012560 -87.674367        casual 0 days 00:04:21            261   \n",
      "2        41.925330 -87.665800        member 0 days 00:04:21            261   \n",
      "3        41.961507 -87.671387        casual 0 days 00:14:56            896   \n",
      "4        41.884621 -87.627834        member 0 days 00:06:02            362   \n",
      "...            ...        ...           ...             ...            ...   \n",
      "4151225  41.877642 -87.649618        member 0 days 00:03:44            224   \n",
      "4151226  41.943403 -87.679618        member 0 days 00:12:59            779   \n",
      "4151227  41.881859 -87.649264        member 0 days 00:04:33            273   \n",
      "4151228  41.877642 -87.649618        member 0 days 00:03:56            236   \n",
      "4151229  41.943403 -87.679618        casual 0 days 00:08:03            483   \n",
      "\n",
      "               day  \n",
      "0         Thursday  \n",
      "1           Monday  \n",
      "2          Tuesday  \n",
      "3          Tuesday  \n",
      "4         Thursday  \n",
      "...            ...  \n",
      "4151225     Monday  \n",
      "4151226  Wednesday  \n",
      "4151227   Thursday  \n",
      "4151228  Wednesday  \n",
      "4151229     Friday  \n",
      "\n",
      "[4151230 rows x 16 columns]\n"
     ]
    }
   ],
   "source": [
    "df = df.reset_index(drop = True)\n",
    "print(df)"
   ]
  },
  {
   "cell_type": "code",
   "execution_count": 18,
   "metadata": {},
   "outputs": [
    {
     "data": {
      "text/plain": [
       "'\\nData Analysis\\n\\nKeeping in mind the stakeholders questions, how can we better visualise the perks of being a member with informatics\\nGuiding questions for the dashboard:\\n1. How do annual members and casual riders use Cyclistic bikes differently?\\n2. Why would casual riders buy Cyclistic annual memberships?\\n3. How can Cyclistic use digital media to influence casual riders to become members?\\n\\n'"
      ]
     },
     "execution_count": 18,
     "metadata": {},
     "output_type": "execute_result"
    }
   ],
   "source": [
    "'''\n",
    "Data Analysis\n",
    "\n",
    "Keeping in mind the stakeholders questions, how can we better visualise the perks of being a member with informatics\n",
    "Guiding questions for the dashboard:\n",
    "1. How do annual members and casual riders use Cyclistic bikes differently?\n",
    "2. Why would casual riders buy Cyclistic annual memberships?\n",
    "3. How can Cyclistic use digital media to influence casual riders to become members?\n",
    "\n",
    "'''"
   ]
  },
  {
   "cell_type": "code",
   "execution_count": 20,
   "metadata": {},
   "outputs": [
    {
     "data": {
      "text/plain": [
       "\"\\nQ1. How do annual members and casual riders use Cyclistic bikes differently?\\nQ2. Why would casual riders buy Cyclistic annual memberships?\\n\\nFor question 1 & 2, once we know how, we would also know the why because that's precisely the reason why members purchase annual memberships. \\nWe first take a quick look at the data and find the percentage of members vs casual riders. \\nNext, after finding the proportions we can narrow down this question by asking on which days do they travel, as it can determine the purpose of travel. \\nAdditionally, we could ask if there are differences in the ride length of members vs casual riders. \\nWe begin answering the questions with the above prompts and generate more findings as we gain insight from the data.\\n\\n\""
      ]
     },
     "execution_count": 20,
     "metadata": {},
     "output_type": "execute_result"
    }
   ],
   "source": [
    "'''\n",
    "Q1. How do annual members and casual riders use Cyclistic bikes differently?\n",
    "Q2. Why would casual riders buy Cyclistic annual memberships?\n",
    "\n",
    "For question 1 & 2, once we know how, we would also know the why because that's precisely the reason why members purchase annual memberships. \n",
    "We first take a quick look at the data and find the percentage of members vs casual riders. \n",
    "Next, after finding the proportions we can narrow down this question by asking on which days do they travel, as it can determine the purpose of travel. \n",
    "Additionally, we could ask if there are differences in the ride length of members vs casual riders. \n",
    "We begin answering the questions with the above prompts and generate more findings as we gain insight from the data.\n",
    "\n",
    "'''"
   ]
  },
  {
   "cell_type": "code",
   "execution_count": 21,
   "metadata": {},
   "outputs": [
    {
     "data": {
      "text/html": [
       "<div>\n",
       "<style scoped>\n",
       "    .dataframe tbody tr th:only-of-type {\n",
       "        vertical-align: middle;\n",
       "    }\n",
       "\n",
       "    .dataframe tbody tr th {\n",
       "        vertical-align: top;\n",
       "    }\n",
       "\n",
       "    .dataframe thead th {\n",
       "        text-align: right;\n",
       "    }\n",
       "</style>\n",
       "<table border=\"1\" class=\"dataframe\">\n",
       "  <thead>\n",
       "    <tr style=\"text-align: right;\">\n",
       "      <th></th>\n",
       "      <th>member</th>\n",
       "      <th>percent</th>\n",
       "    </tr>\n",
       "  </thead>\n",
       "  <tbody>\n",
       "    <tr>\n",
       "      <th>0</th>\n",
       "      <td>member</td>\n",
       "      <td>60.91</td>\n",
       "    </tr>\n",
       "    <tr>\n",
       "      <th>1</th>\n",
       "      <td>casual</td>\n",
       "      <td>39.09</td>\n",
       "    </tr>\n",
       "  </tbody>\n",
       "</table>\n",
       "</div>"
      ],
      "text/plain": [
       "   member  percent\n",
       "0  member    60.91\n",
       "1  casual    39.09"
      ]
     },
     "execution_count": 21,
     "metadata": {},
     "output_type": "execute_result"
    }
   ],
   "source": [
    "# Percent of members vs casual riders\n",
    "member_percent = df.groupby('member_casual')['member_casual'].count()*100/len(df)\n",
    "member_percent = member_percent.reset_index(name = 'percent').rename(columns = {'member_casual' : 'member'})\n",
    "member_percent['percent'] = member_percent['percent'].round(2)\n",
    "member_percent[['member', 'percent']]"
   ]
  },
  {
   "cell_type": "code",
   "execution_count": 22,
   "metadata": {},
   "outputs": [
    {
     "data": {
      "image/png": "[encoded data removed]",
      "text/plain": [
       "<Figure size 1000x600 with 1 Axes>"
      ]
     },
     "metadata": {},
     "output_type": "display_data"
    }
   ],
   "source": [
    "# Frequency of riders based on day of travel\n",
    "ride_day = df.groupby(['day', 'member_casual'])['member_casual'].count().reset_index(name = 'count')\n",
    "\n",
    "plt.figure(figsize = (10,6))\n",
    "sns.barplot(data = ride_day, x = 'day', y = 'count', hue = 'member_casual', palette = 'Paired', order = ['Monday', 'Tuesday', 'Wednesday', 'Thursday', 'Friday', 'Saturday', 'Sunday'])\n",
    "plt.ylabel('Frequency')\n",
    "plt.xlabel('Day of the Week')\n",
    "plt.title('Cyclistic Riders by Day')\n",
    "plt.show() # Based on the days travelled, saturday and sundays are more popular for causal riders while member riders preferred weekday travels"
   ]
  },
  {
   "cell_type": "code",
   "execution_count": 23,
   "metadata": {},
   "outputs": [
    {
     "data": {
      "image/png": "[encoded data removed]",
      "text/plain": [
       "<Figure size 1400x600 with 1 Axes>"
      ]
     },
     "metadata": {},
     "output_type": "display_data"
    }
   ],
   "source": [
    "# Frequency of rides and ride times by the month \n",
    "month = ['January', 'February', 'March', 'April', 'May', 'June', 'July', 'August', 'September', 'October', 'November', 'December']\n",
    "df['month'] = df['started_at'].dt.month_name()\n",
    "df['month'] = pd.Categorical(df['month'], categories = month, ordered = True)\n",
    "\n",
    "member_ride_month = df.groupby(['month', 'member_casual'])['member_casual'].count().reset_index(name = 'count')\n",
    "member_ride_month = member_ride_month.sort_values(by = 'month')\n",
    "\n",
    "plt.figure(figsize = (14, 6))\n",
    "sns.barplot(data = member_ride_month, x = 'month', y = 'count', hue = 'member_casual', palette = 'Paired')\n",
    "plt.xlabel('Frequency of rides')\n",
    "plt.ylabel('Months')\n",
    "plt.title('Ride Frequency of cyclistic users by Months')\n",
    "plt.show() # Popular months are between May and September/October, not much difference between member vs casual riders"
   ]
  },
  {
   "cell_type": "code",
   "execution_count": 24,
   "metadata": {},
   "outputs": [
    {
     "data": {
      "text/html": [
       "<div>\n",
       "<style scoped>\n",
       "    .dataframe tbody tr th:only-of-type {\n",
       "        vertical-align: middle;\n",
       "    }\n",
       "\n",
       "    .dataframe tbody tr th {\n",
       "        vertical-align: top;\n",
       "    }\n",
       "\n",
       "    .dataframe thead th {\n",
       "        text-align: right;\n",
       "    }\n",
       "</style>\n",
       "<table border=\"1\" class=\"dataframe\">\n",
       "  <thead>\n",
       "    <tr style=\"text-align: right;\">\n",
       "      <th></th>\n",
       "      <th>member_casual</th>\n",
       "      <th>average_ride</th>\n",
       "    </tr>\n",
       "  </thead>\n",
       "  <tbody>\n",
       "    <tr>\n",
       "      <th>0</th>\n",
       "      <td>member</td>\n",
       "      <td>00:12:07</td>\n",
       "    </tr>\n",
       "    <tr>\n",
       "      <th>1</th>\n",
       "      <td>casual</td>\n",
       "      <td>00:17:45</td>\n",
       "    </tr>\n",
       "  </tbody>\n",
       "</table>\n",
       "</div>"
      ],
      "text/plain": [
       "  member_casual average_ride\n",
       "0        member     00:12:07\n",
       "1        casual     00:17:45"
      ]
     },
     "execution_count": 24,
     "metadata": {},
     "output_type": "execute_result"
    }
   ],
   "source": [
    "# Average ride time by member category\n",
    "avg_ride = df.groupby('member_casual')['total_seconds'].mean().reset_index(name = 'average_ride')\n",
    "avg_ride['average_ride'] = pd.to_datetime(avg_ride['average_ride'], unit = 's').dt.strftime('%H:%M:%S')\n",
    "avg_ride[['member_casual', 'average_ride']] # Average ride time for members vs casual has a significant difference, which could be linked to the day they travel"
   ]
  },
  {
   "cell_type": "code",
   "execution_count": 25,
   "metadata": {},
   "outputs": [
    {
     "name": "stdout",
     "output_type": "stream",
     "text": [
      "  member_casual  rideable_type  avg_ride\n",
      "0        member   classic_bike  00:12:44\n",
      "1        member    docked_bike       NaN\n",
      "2        member  electric_bike  00:10:55\n",
      "3        casual   classic_bike  00:18:19\n",
      "4        casual    docked_bike  00:26:34\n",
      "5        casual  electric_bike  00:15:11\n"
     ]
    }
   ],
   "source": [
    "# average ride by members and rideable_type\n",
    "ride_type_avg = df.groupby(['member_casual', 'rideable_type'])['total_seconds'].mean().reset_index(name = 'avg_ride')\n",
    "ride_type_avg['avg_ride'] = pd.to_datetime(ride_type_avg['avg_ride'], unit = 's').dt.strftime('%H:%M:%S')\n",
    "print(ride_type_avg) # Additionally members tend not to use docked bikes which have a much longer average ride time compared to other transport means"
   ]
  },
  {
   "cell_type": "code",
   "execution_count": 26,
   "metadata": {},
   "outputs": [
    {
     "data": {
      "image/png": "[encoded data removed]",
      "text/plain": [
       "<Figure size 800x600 with 1 Axes>"
      ]
     },
     "metadata": {},
     "output_type": "display_data"
    }
   ],
   "source": [
    "# Discovering other variables that contribute to a longer average ride for casual users; percent of riders by rideable_type\n",
    "member_ride_type = df.groupby(['member_casual', 'rideable_type'])['rideable_type'].count().reset_index(name = 'count')\n",
    "member_ride_type['total'] = member_ride_type.groupby('member_casual')['count'].transform('sum')\n",
    "member_ride_type['percent'] = (member_ride_type['count']*100/member_ride_type['total']).round(2)\n",
    "\n",
    "plt.figure(figsize = (8, 6))\n",
    "sns.barplot(data = member_ride_type, x = 'member_casual', y = 'percent', hue = 'rideable_type', palette= 'Paired', order = ['member', 'casual'], hue_order = ['classic_bike' , 'electric_bike', 'docked_bike'])\n",
    "plt.xlabel('member status')\n",
    "plt.ylabel('percentage')\n",
    "plt.title('cyclistic user ride of choice')\n",
    "plt.show() # members mainly use classic and electric bikes while docked bikes are more common for casual riders; as docked systems are harder to implement within the city, the locations of docked areas are more targeted"
   ]
  },
  {
   "cell_type": "code",
   "execution_count": 27,
   "metadata": {},
   "outputs": [
    {
     "data": {
      "text/plain": [
       "' \\nSummary\\nHow can we convert our casual riders to members of cyclistic? Questions to answer:\\nQ1. How do annual members and casual riders use Cyclistic bikes differently?\\nQ2. Why would casual riders buy Cyclistic annual memberships?\\nQ3. How can Cyclistic use digital media to influence casual riders to become members?\\n\\nTrends\\n- Casual riders use cyclistic more for leisurely activities and primarily on weekends\\n- Peak months for travel are May to September\\n- Although there is a large selection of bikes, casual riders do have a preference for docked bikes; possibly due to the location of the bikes i.e. parks where there is a determine start and end point\\n\\nSolution\\n- Knowing the purpose of travel allows us to be more strategic with our marketing, i.e. launch more campaigns over the weekend to cater to casual riders as well\\n- More specifically, we can target months form May to September where we see more demand for our service. Unsurprisingly these months coincide with spring, summer and autumn, the warmer months to ride bikes\\n- Although there is some demand for docked bikes, we can see trends moving towards classic or even electric bikes. Indicating that convenience is still a primary consideration to look out for.\\n'"
      ]
     },
     "execution_count": 27,
     "metadata": {},
     "output_type": "execute_result"
    }
   ],
   "source": [
    "''' \n",
    "Summary\n",
    "How can we convert our casual riders to members of cyclistic? Questions to answer:\n",
    "Q1. How do annual members and casual riders use Cyclistic bikes differently?\n",
    "Q2. Why would casual riders buy Cyclistic annual memberships?\n",
    "Q3. How can Cyclistic use digital media to influence casual riders to become members?\n",
    "\n",
    "Trends\n",
    "- Casual riders use cyclistic more for leisurely activities and primarily on weekends\n",
    "- Peak months for travel are May to September\n",
    "- Although there is a large selection of bikes, casual riders still do use docked bikes; possibly due to the location of the bikes i.e. parks where there is a determined start and end point\n",
    "\n",
    "Solution\n",
    "- Knowing the purpose of travel allows us to be more strategic with our marketing, i.e. launch more campaigns over the weekend to cater to casual riders as well\n",
    "- More specifically, we can target months form May to September where we see more demand for our service. Unsurprisingly these months coincide with spring, summer and autumn, the warmer months to ride bikes\n",
    "- Although there is some demand for docked bikes, we can see trends moving towards classic or even electric bikes. Indicating that convenience is still a primary consideration to look out for.\n",
    "'''"
   ]
  },
  {
   "cell_type": "code",
   "execution_count": 28,
   "metadata": {},
   "outputs": [],
   "source": [
    "tab = df.drop(columns = ['ride_length', 'start_station_id', 'end_station_id', 'month', 'day']) # drop ride_length as we have already converted all time into seconds\n",
    "tab = tab.reset_index(drop = True)\n",
    "\n",
    "# Export file to build dashboard\n",
    "path = r'C:/Users/Chris/OneDrive/Desktop/Python Projects/cyclistic data'\n",
    "tab.to_csv(path + '//cyclistic_tab.csv')"
   ]
  }
 ],
 "metadata": {
  "kernelspec": {
   "display_name": "Python 3",
   "language": "python",
   "name": "python3"
  },
  "language_info": {
   "codemirror_mode": {
    "name": "ipython",
    "version": 3
   },
   "file_extension": ".py",
   "mimetype": "text/x-python",
   "name": "python",
   "nbconvert_exporter": "python",
   "pygments_lexer": "ipython3",
   "version": "3.11.4"
  }
 },
 "nbformat": 4,
 "nbformat_minor": 2
}
