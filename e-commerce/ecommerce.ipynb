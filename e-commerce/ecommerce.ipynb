{
 "cells": [
  {
   "cell_type": "code",
   "execution_count": 1,
   "metadata": {},
   "outputs": [
    {
     "data": {
      "text/plain": [
       "'\\nAbout Dataset\\nThis is a transnational data set which contains all the transactions occurring between 01/12/2010 and 09/12/2011 for a UK-based and registered non-store online retail. \\nThe company mainly sells unique all-occasion gifts. Many customers of the company are wholesalers.\\n\\nCase Study Excercise\\n- clean ecommerce data\\n- summarise sale figures for 2011\\n- create a dashboard to present sales figures, with the following questions in mind:\\n    1. What is our order fulfilment, orders vs cancellation?\\n    2. Who are our main customers?\\n    3. Which area of the business to focus for the next year?\\n    4. Devise a marketing strategy to increase sales\\n\\nsource : https://www.kaggle.com/datasets/aliessamali/ecommerce\\n'"
      ]
     },
     "execution_count": 1,
     "metadata": {},
     "output_type": "execute_result"
    }
   ],
   "source": [
    "'''\n",
    "About Dataset\n",
    "This is a transnational data set which contains all the transactions occurring between 01/12/2010 and 09/12/2011 for a UK-based and registered non-store online retail. \n",
    "The company mainly sells unique all-occasion gifts. Many customers of the company are wholesalers.\n",
    "\n",
    "Case Study Excercise\n",
    "- clean ecommerce data\n",
    "- summarise sale figures for 2011\n",
    "- create a dashboard to present sales figures, with the following questions in mind:\n",
    "    1. What is our order fulfilment, orders vs cancellation?\n",
    "    2. Who are our main customers?\n",
    "    3. Which area of the business to focus for the next year?\n",
    "    4. Devise a marketing strategy to increase sales\n",
    "\n",
    "source : https://www.kaggle.com/datasets/aliessamali/ecommerce\n",
    "'''"
   ]
  },
  {
   "cell_type": "code",
   "execution_count": 2,
   "metadata": {},
   "outputs": [],
   "source": [
    "import pandas as pd\n",
    "import numpy as np\n",
    "import re"
   ]
  },
  {
   "cell_type": "code",
   "execution_count": 3,
   "metadata": {},
   "outputs": [
    {
     "name": "stdout",
     "output_type": "stream",
     "text": [
      "       InvoiceNo StockCode                          Description  Quantity  \\\n",
      "0         536365    85123A   WHITE HANGING HEART T-LIGHT HOLDER         6   \n",
      "1         536365     71053                  WHITE METAL LANTERN         6   \n",
      "2         536365    84406B       CREAM CUPID HEARTS COAT HANGER         8   \n",
      "3         536365    84029G  KNITTED UNION FLAG HOT WATER BOTTLE         6   \n",
      "4         536365    84029E       RED WOOLLY HOTTIE WHITE HEART.         6   \n",
      "...          ...       ...                                  ...       ...   \n",
      "541904    581587     22613          PACK OF 20 SPACEBOY NAPKINS        12   \n",
      "541905    581587     22899         CHILDREN'S APRON DOLLY GIRL          6   \n",
      "541906    581587     23254        CHILDRENS CUTLERY DOLLY GIRL          4   \n",
      "541907    581587     23255      CHILDRENS CUTLERY CIRCUS PARADE         4   \n",
      "541908    581587     22138        BAKING SET 9 PIECE RETROSPOT          3   \n",
      "\n",
      "                InvoiceDate  UnitPrice  CustomerID         Country  \n",
      "0       2010-12-01 08:26:00       2.55     17850.0  United Kingdom  \n",
      "1       2010-12-01 08:26:00       3.39     17850.0  United Kingdom  \n",
      "2       2010-12-01 08:26:00       2.75     17850.0  United Kingdom  \n",
      "3       2010-12-01 08:26:00       3.39     17850.0  United Kingdom  \n",
      "4       2010-12-01 08:26:00       3.39     17850.0  United Kingdom  \n",
      "...                     ...        ...         ...             ...  \n",
      "541904  2011-12-09 12:50:00       0.85     12680.0          France  \n",
      "541905  2011-12-09 12:50:00       2.10     12680.0          France  \n",
      "541906  2011-12-09 12:50:00       4.15     12680.0          France  \n",
      "541907  2011-12-09 12:50:00       4.15     12680.0          France  \n",
      "541908  2011-12-09 12:50:00       4.95     12680.0          France  \n",
      "\n",
      "[541909 rows x 8 columns]\n"
     ]
    }
   ],
   "source": [
    "# Load file into jupyter notebook\n",
    "path = r\"C:\\Users\\Chris\\OneDrive\\Desktop\\Python Projects\"\n",
    "data = pd.read_csv(path + '\\\\dataset.csv')\n",
    "print(data)"
   ]
  },
  {
   "cell_type": "code",
   "execution_count": 4,
   "metadata": {},
   "outputs": [
    {
     "data": {
      "text/plain": [
       "InvoiceNo       object\n",
       "StockCode       object\n",
       "Description     object\n",
       "Quantity         int64\n",
       "InvoiceDate     object\n",
       "UnitPrice      float64\n",
       "CustomerID     float64\n",
       "Country         object\n",
       "dtype: object"
      ]
     },
     "execution_count": 4,
     "metadata": {},
     "output_type": "execute_result"
    }
   ],
   "source": [
    "df = data.copy()\n",
    "df.dtypes"
   ]
  },
  {
   "cell_type": "code",
   "execution_count": 5,
   "metadata": {},
   "outputs": [
    {
     "name": "stdout",
     "output_type": "stream",
     "text": [
      "cancelled orders: 9288 \n",
      " orders: 541909 \n",
      " others: 0\n"
     ]
    }
   ],
   "source": [
    "'''\n",
    "InvoiceNo: Invoice number. Nominal, a 6-digit integral number uniquely assigned to each transaction. If this code starts with letter 'c', it indicates a cancellation.\n",
    "StockCode: Product (item) code. Nominal, a 5-digit integral number uniquely assigned to each distinct product.\n",
    "Description: Product (item) name. Nominal.\n",
    "Quantity: The quantities of each product (item) per transaction. Numeric.\n",
    "InvoiceDate: Invice Date and time. Numeric, the day and time when each transaction was generated.\n",
    "UnitPrice: Unit price. Numeric, Product price per unit in sterling.\n",
    "CustomerID: Customer number. Nominal, a 5-digit integral number uniquely assigned to each customer.\n",
    "Country: Country name. Nominal, the name of the country where each customer resides.\n",
    "'''\n",
    "\n",
    "# Validata clean data and count number of orders\n",
    "cancel = []\n",
    "orders = []\n",
    "others = []\n",
    "cancel_pattern = r'c\\d{6}'\n",
    "order_pattern = r'\\d{6}'\n",
    "for ind in df['InvoiceNo']:\n",
    "    if re.search(cancel_pattern, ind, flags = re.IGNORECASE):\n",
    "        cancel.append(ind)\n",
    "    if re.search(order_pattern, ind):\n",
    "        orders.append(ind)\n",
    "    else:\n",
    "        others.append(ind)\n",
    "print('cancelled orders:', len(cancel), '\\n', 'orders:', len(orders), '\\n', 'others:', len(others))\n",
    "# catch-all variable 'others' to ensure only valid invoice numbers"
   ]
  },
  {
   "cell_type": "code",
   "execution_count": 6,
   "metadata": {},
   "outputs": [
    {
     "name": "stdout",
     "output_type": "stream",
     "text": [
      "['POST', 'D', 'C2', 'DOT', 'M', 'BANK CHARGES', 'S', 'AMAZONFEE', 'DCGS0076', 'DCGS0003', 'gift_0001_40', 'DCGS0070', 'm', 'gift_0001_50', 'gift_0001_30', 'gift_0001_20', 'DCGS0055', 'DCGS0072', 'DCGS0074', 'DCGS0069', 'DCGS0057', 'DCGSSBOY', 'DCGSSGIRL', 'gift_0001_10', 'PADS', 'DCGS0004', 'DCGS0073', 'DCGS0071', 'DCGS0068', 'DCGS0067', 'DCGS0066P', 'B', 'CRUK']\n"
     ]
    }
   ],
   "source": [
    "# Search for non sales related data. \n",
    "# Utilised stock code to isolate for 5 digit integers for sales related items; place other stock codes into list  \n",
    "other_stock = []\n",
    "stock_pattern = r'\\d{5}'\n",
    "for ind in df['StockCode']:\n",
    "    if re.search(stock_pattern, ind):\n",
    "        continue\n",
    "    else:\n",
    "        if ind not in other_stock:\n",
    "            other_stock.append(ind)\n",
    "        else:\n",
    "            continue\n",
    "print(other_stock)\n"
   ]
  },
  {
   "cell_type": "code",
   "execution_count": 7,
   "metadata": {},
   "outputs": [
    {
     "name": "stdout",
     "output_type": "stream",
     "text": [
      "previous count \n",
      " InvoiceNo      541909\n",
      "StockCode      541909\n",
      "Description    540455\n",
      "Quantity       541909\n",
      "InvoiceDate    541909\n",
      "UnitPrice      541909\n",
      "CustomerID     406829\n",
      "Country        541909\n",
      "dtype: int64 \n",
      "\n",
      "current count \n",
      " InvoiceNo      538914\n",
      "StockCode      538914\n",
      "Description    537475\n",
      "Quantity       538914\n",
      "InvoiceDate    538914\n",
      "UnitPrice      538914\n",
      "CustomerID     404909\n",
      "Country        538914\n",
      "dtype: int64\n"
     ]
    }
   ],
   "source": [
    "# remove non sales related stock codes\n",
    "print('previous count', '\\n', df.count(), '\\n')\n",
    "clean_df = df[~df['StockCode'].isin(other_stock)]\n",
    "clean_df.reset_index(drop = True, inplace = True)\n",
    "print('current count', '\\n', clean_df.count())"
   ]
  },
  {
   "cell_type": "code",
   "execution_count": 8,
   "metadata": {},
   "outputs": [
    {
     "name": "stdout",
     "output_type": "stream",
     "text": [
      "       InvoiceNo StockCode                          Description  Quantity  \\\n",
      "0         536365    85123A   WHITE HANGING HEART T-LIGHT HOLDER         6   \n",
      "1         536365     71053                  WHITE METAL LANTERN         6   \n",
      "2         536365    84406B       CREAM CUPID HEARTS COAT HANGER         8   \n",
      "3         536365    84029G  KNITTED UNION FLAG HOT WATER BOTTLE         6   \n",
      "4         536365    84029E       RED WOOLLY HOTTIE WHITE HEART.         6   \n",
      "...          ...       ...                                  ...       ...   \n",
      "538909    581587     22613          PACK OF 20 SPACEBOY NAPKINS        12   \n",
      "538910    581587     22899         CHILDREN'S APRON DOLLY GIRL          6   \n",
      "538911    581587     23254        CHILDRENS CUTLERY DOLLY GIRL          4   \n",
      "538912    581587     23255      CHILDRENS CUTLERY CIRCUS PARADE         4   \n",
      "538913    581587     22138        BAKING SET 9 PIECE RETROSPOT          3   \n",
      "\n",
      "                InvoiceDate  UnitPrice         Country  \n",
      "0       2010-12-01 08:26:00       2.55  United Kingdom  \n",
      "1       2010-12-01 08:26:00       3.39  United Kingdom  \n",
      "2       2010-12-01 08:26:00       2.75  United Kingdom  \n",
      "3       2010-12-01 08:26:00       3.39  United Kingdom  \n",
      "4       2010-12-01 08:26:00       3.39  United Kingdom  \n",
      "...                     ...        ...             ...  \n",
      "538909  2011-12-09 12:50:00       0.85          France  \n",
      "538910  2011-12-09 12:50:00       2.10          France  \n",
      "538911  2011-12-09 12:50:00       4.15          France  \n",
      "538912  2011-12-09 12:50:00       4.15          France  \n",
      "538913  2011-12-09 12:50:00       4.95          France  \n",
      "\n",
      "[538914 rows x 7 columns]\n"
     ]
    }
   ],
   "source": [
    "# ignore customerid nan values because it is not a unique identifier. \n",
    "# Althought the description column presents with some nan values, it is less of a concern as it would not affect our sales figures.\n",
    "clean_df = clean_df.drop(columns = 'CustomerID')\n",
    "print(clean_df)"
   ]
  },
  {
   "cell_type": "code",
   "execution_count": 9,
   "metadata": {},
   "outputs": [
    {
     "name": "stdout",
     "output_type": "stream",
     "text": [
      "['order' 'cancelled']\n"
     ]
    }
   ],
   "source": [
    "# create new column called order status to categorise cancelled vs fulfilled orders\n",
    "clean_df['order_status'] = np.where(clean_df['InvoiceNo'].str.match(cancel_pattern, flags = re.IGNORECASE), 'cancelled', 'order')\n",
    "print(clean_df['order_status'].unique())"
   ]
  },
  {
   "cell_type": "code",
   "execution_count": 10,
   "metadata": {},
   "outputs": [],
   "source": [
    "# replacing c wih nothing to get an integer only invoice number\n",
    "clean_df['InvoiceNo'] = clean_df['InvoiceNo'].str.replace(r'^C', '', flags = re.IGNORECASE, regex = True)"
   ]
  },
  {
   "cell_type": "code",
   "execution_count": 11,
   "metadata": {},
   "outputs": [
    {
     "name": "stdout",
     "output_type": "stream",
     "text": [
      "       InvoiceNo StockCode                   Description  Quantity  \\\n",
      "619       536414     22139                           NaN        56   \n",
      "1964      536545     21134                           NaN         1   \n",
      "1965      536546     22145                           NaN         1   \n",
      "1966      536547     37509                           NaN         1   \n",
      "1981      536549    85226A                           NaN         1   \n",
      "...          ...       ...                           ...       ...   \n",
      "533999    581234     72817                           NaN        27   \n",
      "535518    581406    46000M  POLYESTER FILLER PAD 45x45cm       240   \n",
      "535519    581406    46000S  POLYESTER FILLER PAD 40x40cm       300   \n",
      "535568    581408     85175                           NaN        20   \n",
      "535933    581422     23169                       smashed      -235   \n",
      "\n",
      "                InvoiceDate  UnitPrice         Country order_status  \n",
      "619     2010-12-01 11:52:00        0.0  United Kingdom        order  \n",
      "1964    2010-12-01 14:32:00        0.0  United Kingdom        order  \n",
      "1965    2010-12-01 14:33:00        0.0  United Kingdom        order  \n",
      "1966    2010-12-01 14:33:00        0.0  United Kingdom        order  \n",
      "1981    2010-12-01 14:34:00        0.0  United Kingdom        order  \n",
      "...                     ...        ...             ...          ...  \n",
      "533999  2011-12-08 10:33:00        0.0  United Kingdom        order  \n",
      "535518  2011-12-08 13:58:00        0.0  United Kingdom        order  \n",
      "535519  2011-12-08 13:58:00        0.0  United Kingdom        order  \n",
      "535568  2011-12-08 14:06:00        0.0  United Kingdom        order  \n",
      "535933  2011-12-08 15:24:00        0.0  United Kingdom        order  \n",
      "\n",
      "[2485 rows x 8 columns]\n"
     ]
    }
   ],
   "source": [
    "# remove unfulfilled orders where unitprice = 0\n",
    "print(clean_df[clean_df['UnitPrice'] == 0])\n",
    "clean_df = clean_df[~(clean_df['UnitPrice'] == 0)]"
   ]
  },
  {
   "cell_type": "code",
   "execution_count": 12,
   "metadata": {},
   "outputs": [
    {
     "name": "stdout",
     "output_type": "stream",
     "text": [
      "       InvoiceNo StockCode                          Description  \\\n",
      "0         536365    85123A   WHITE HANGING HEART T-LIGHT HOLDER   \n",
      "1         536365     71053                  WHITE METAL LANTERN   \n",
      "2         536365    84406B       CREAM CUPID HEARTS COAT HANGER   \n",
      "3         536365    84029G  KNITTED UNION FLAG HOT WATER BOTTLE   \n",
      "4         536365    84029E       RED WOOLLY HOTTIE WHITE HEART.   \n",
      "...          ...       ...                                  ...   \n",
      "538909    581587     22613          PACK OF 20 SPACEBOY NAPKINS   \n",
      "538910    581587     22899         CHILDREN'S APRON DOLLY GIRL    \n",
      "538911    581587     23254        CHILDRENS CUTLERY DOLLY GIRL    \n",
      "538912    581587     23255      CHILDRENS CUTLERY CIRCUS PARADE   \n",
      "538913    581587     22138        BAKING SET 9 PIECE RETROSPOT    \n",
      "\n",
      "                InvoiceDate  Quantity  UnitPrice  revenue         Country  \\\n",
      "0       2010-12-01 08:26:00         6       2.55    15.30  United Kingdom   \n",
      "1       2010-12-01 08:26:00         6       3.39    20.34  United Kingdom   \n",
      "2       2010-12-01 08:26:00         8       2.75    22.00  United Kingdom   \n",
      "3       2010-12-01 08:26:00         6       3.39    20.34  United Kingdom   \n",
      "4       2010-12-01 08:26:00         6       3.39    20.34  United Kingdom   \n",
      "...                     ...       ...        ...      ...             ...   \n",
      "538909  2011-12-09 12:50:00        12       0.85    10.20          France   \n",
      "538910  2011-12-09 12:50:00         6       2.10    12.60          France   \n",
      "538911  2011-12-09 12:50:00         4       4.15    16.60          France   \n",
      "538912  2011-12-09 12:50:00         4       4.15    16.60          France   \n",
      "538913  2011-12-09 12:50:00         3       4.95    14.85          France   \n",
      "\n",
      "       order_status  \n",
      "0             order  \n",
      "1             order  \n",
      "2             order  \n",
      "3             order  \n",
      "4             order  \n",
      "...             ...  \n",
      "538909        order  \n",
      "538910        order  \n",
      "538911        order  \n",
      "538912        order  \n",
      "538913        order  \n",
      "\n",
      "[536429 rows x 9 columns]\n"
     ]
    }
   ],
   "source": [
    "# add revenue column and reorganise column order\n",
    "clean_df['revenue'] = clean_df['UnitPrice'] * clean_df['Quantity']\n",
    "clean_df = clean_df[['InvoiceNo', 'StockCode', 'Description', 'InvoiceDate', 'Quantity', 'UnitPrice', 'revenue', 'Country', 'order_status']]\n",
    "print(clean_df)"
   ]
  },
  {
   "cell_type": "code",
   "execution_count": 13,
   "metadata": {},
   "outputs": [
    {
     "name": "stdout",
     "output_type": "stream",
     "text": [
      "InvoiceNo                int64\n",
      "StockCode               object\n",
      "Description             object\n",
      "InvoiceDate     datetime64[ns]\n",
      "Quantity                 int64\n",
      "UnitPrice              float64\n",
      "revenue                float64\n",
      "Country                 object\n",
      "order_status            object\n",
      "dtype: object\n"
     ]
    }
   ],
   "source": [
    "# change data types for data analysis\n",
    "clean_df['InvoiceNo'] = clean_df['InvoiceNo'].astype('int64')\n",
    "clean_df['InvoiceDate'] = clean_df['InvoiceDate'].astype('datetime64[ns]')\n",
    "clean_df['revenue'] = clean_df['revenue'].astype('float64')\n",
    "clean_df.reset_index()\n",
    "print(clean_df.dtypes)"
   ]
  },
  {
   "cell_type": "code",
   "execution_count": 14,
   "metadata": {},
   "outputs": [],
   "source": [
    "# export dataframe to csv for analysis\n",
    "chart = r'C:\\Users\\Chris\\OneDrive\\Desktop\\Tableu'\n",
    "clean_df.to_csv(chart + '\\\\ecommerce_v4.csv', index = False)"
   ]
  }
 ],
 "metadata": {
  "kernelspec": {
   "display_name": "Python 3",
   "language": "python",
   "name": "python3"
  },
  "language_info": {
   "codemirror_mode": {
    "name": "ipython",
    "version": 3
   },
   "file_extension": ".py",
   "mimetype": "text/x-python",
   "name": "python",
   "nbconvert_exporter": "python",
   "pygments_lexer": "ipython3",
   "version": "3.11.4"
  },
  "orig_nbformat": 4
 },
 "nbformat": 4,
 "nbformat_minor": 2
}
