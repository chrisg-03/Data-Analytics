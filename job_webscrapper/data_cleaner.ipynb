{
 "cells": [
  {
   "cell_type": "code",
   "execution_count": 1,
   "metadata": {},
   "outputs": [],
   "source": [
    "from datetime import date\n",
    "import pandas as pd\n",
    "import re"
   ]
  },
  {
   "cell_type": "code",
   "execution_count": 2,
   "metadata": {},
   "outputs": [],
   "source": [
    "# READ DAILY JOB_INFO DATA\n",
    "d = date.today().strftime(\"%d%m%y\")\n",
    "df = dict()\n",
    "company_list = []\n",
    "role_list = []\n",
    "salary_list = []\n",
    "website_list = []\n",
    "\n",
    "with open(f\"./jobs/job_info_{d}.txt\", \"r\", encoding=\"utf-8\") as f:\n",
    "    for line in f.readlines():\n",
    "        company, role, salary, website = line.strip().split(\";\")\n",
    "        company_list.append(company)\n",
    "        role_list.append(role)\n",
    "        salary_list.append(salary)\n",
    "        website_list.append(website)\n",
    "\n",
    "df[\"company\"] = company_list\n",
    "df[\"role\"] = role_list\n",
    "df[\"salary\"] = salary_list\n",
    "df[\"website\"] = website_list\n",
    "\n",
    "data = pd.DataFrame(df)"
   ]
  },
  {
   "cell_type": "code",
   "execution_count": 3,
   "metadata": {},
   "outputs": [],
   "source": [
    "data = data.drop_duplicates()\n",
    "\n",
    "# CREATE SUBCATEGORY FOR ROLES\n",
    "data[\"role\"] = data[\"role\"].str.lower()\n",
    "\n",
    "# print(data[\"role\"])"
   ]
  },
  {
   "cell_type": "code",
   "execution_count": 4,
   "metadata": {},
   "outputs": [
    {
     "data": {
      "text/plain": [
       "company     126\n",
       "role        126\n",
       "salary      126\n",
       "website     126\n",
       "sub_role     62\n",
       "dtype: int64"
      ]
     },
     "execution_count": 4,
     "metadata": {},
     "output_type": "execute_result"
    }
   ],
   "source": [
    "patterns = {\n",
    "    \"data analyst\": r\".*data.* analyst.*\",\n",
    "    \"financial analyst\": r\".*financ.+ analyst|.*fp&a.*\",\n",
    "    \"business analyst\": r\".*business.* analyst|bi analyst\",\n",
    "    \"credit analyst\": r\".*credit.* analyst\",\n",
    "    \"operation analyst\": r\".*operation.*\",\n",
    "    \"data scientist\": r\".*data.* scien.*\",\n",
    "    \"data engineer\": r\".*data.* engineer.*\",\n",
    "    \"investment analyst\": r\".*investment.*\",\n",
    "    \"system analyst\": r\".*system.* analyst\"\n",
    "}\n",
    "\n",
    "for sub_role, pattern in patterns.items():\n",
    "    mask = data[\"role\"].str.contains(pattern, regex=True)\n",
    "    data.loc[mask, \"sub_role\"] = sub_role\n",
    "\n",
    "data.count()"
   ]
  },
  {
   "cell_type": "code",
   "execution_count": 5,
   "metadata": {},
   "outputs": [
    {
     "data": {
      "text/plain": [
       "company     126\n",
       "role        126\n",
       "salary      126\n",
       "website     126\n",
       "sub_role     62\n",
       "dtype: int64"
      ]
     },
     "execution_count": 5,
     "metadata": {},
     "output_type": "execute_result"
    }
   ],
   "source": [
    "data = data.drop_duplicates(subset=[\"company\", \"role\"])\n",
    "data.count()"
   ]
  },
  {
   "cell_type": "code",
   "execution_count": 9,
   "metadata": {},
   "outputs": [],
   "source": [
    "filter_data = data[data[\"sub_role\"].notna()]\n",
    "\n",
    "d = date.today().strftime(\"%d%m%y\")\n",
    "filter_data.to_csv(f\"./all/clean_jobs_{d}.csv\", sep=\";\", index=False)"
   ]
  },
  {
   "cell_type": "code",
   "execution_count": null,
   "metadata": {},
   "outputs": [],
   "source": []
  }
 ],
 "metadata": {
  "kernelspec": {
   "display_name": "Python 3",
   "language": "python",
   "name": "python3"
  },
  "language_info": {
   "codemirror_mode": {
    "name": "ipython",
    "version": 3
   },
   "file_extension": ".py",
   "mimetype": "text/x-python",
   "name": "python",
   "nbconvert_exporter": "python",
   "pygments_lexer": "ipython3",
   "version": "3.12.2"
  }
 },
 "nbformat": 4,
 "nbformat_minor": 2
}
